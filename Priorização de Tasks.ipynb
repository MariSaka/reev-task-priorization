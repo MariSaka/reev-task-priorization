{
 "cells": [
  {
   "cell_type": "markdown",
   "metadata": {},
   "source": [
    "# Priorização de Tasks\n",
    "\n",
    "**Objetivo:** Desenvolver um método para gerar um score que meça o provável sucesso de uma Task manual.\n",
    "***\n",
    "\n",
    "**O que é uma Task?**  \n",
    "Trata-se de uma atividade voltador para os vendedores (SDRs e Closers) executarem e cujo foco é conseguir uma resposta do lead prospectado.\n",
    "***\n",
    "\n",
    "**Quais os tipos de Task?**\n",
    " - Envio de email\n",
    " - Contato via linkedin\n",
    " - Telefonema\n",
    " - Contato via alguma outra mídia social\n",
    " - Reunião\n",
    "***\n",
    "\n",
    "**O que é uma Task de sucesso? Em ordem de prioridade:**\n",
    " 1. Uma task que tenha tido uma resposta positiva\n",
    " 2. Uma task que tenha tido uma resposta, mesmo que negativa\n",
    " 3. Demais tasks sem resposta\n",
    "***\n",
    "\n",
    "**Quais fatores podem influenciar o sucesso de uma task?**\n",
    " - Contatos que já tiveram uma interação prévia tem mais chances de sucesso? \n",
    " - Contatos com engajamento recente devem ser priorizados?\n",
    " - Ozzy Tasks realmente tem mais chances de sucesso do que tasks tradicionais? \n",
    " - Existem templates de email que favoreçam a resposta do lead?\n",
    " - Existe alguma correlação de data/hora e taxa de sucesso? (considerar a tabela de flow_actions para essa análise)\n",
    " - Correlação entre tipos de tarefas (email/linkedin/social/telefonema) e taxa de sucesso. \n",
    " - Correlação entre as interações do contato (interações com emails, ligações, etc) e a taxa de sucesso.\n",
    " - Correlação entre tempo de resposta e taxa de sucesso.\n",
    " - Correlações entre estágios e taxa de sucesso. \n",
    " - Origem (contatos que chegam via Inbound/LeadGen).\n",
    " - Conversões de Inbound (RD e Hubspot).\n",
    " - O perfil do lead influencia?\n",
    " - O perfil da empresa prospectante influencia?\n",
    "***\n",
    "\n",
    "**Observações:**\n",
    " - A task do tipo reunião fica fora do nosso escopo de análise por ser conceitualmente diferente das demais. Para que exista uma reunião o lead já tem que ter acenado positivamente e portanto não há necessidade criar um score para a reunião. Reuniões sempre terão prioridade em seu horário marcado.\n",
    " - É preciso tomar cuidado para que não haja tasks que nunca sejam elencadas para execução.\n",
    " "
   ]
  },
  {
   "cell_type": "markdown",
   "metadata": {},
   "source": [
    "# Quais os tipos de Task?"
   ]
  },
  {
   "cell_type": "code",
   "execution_count": null,
   "metadata": {
    "ExecuteTime": {
     "end_time": "2020-02-20T18:20:20.418552Z",
     "start_time": "2020-02-20T18:20:13.766853Z"
    },
    "scrolled": true
   },
   "outputs": [],
   "source": [
    "import os\n",
    "import utils\n",
    "import pandas as pd\n",
    "\n",
    "query = '''select distinct(service) from tasks where type = 'ManualTask' order by service'''\n",
    "df = pd.read_sql(query, os.environ['REEVAPI_URL'])\n",
    "\n",
    "df"
   ]
  },
  {
   "cell_type": "markdown",
   "metadata": {},
   "source": [
    "# O que é uma Task de sucesso? \n",
    "\n",
    "**Table:** `tasks join events on tasks.id = events.task_id`\n",
    "\n",
    "- O objetivo dessa análise é criar um atributo target Sucesso com valores True/False\n",
    "- É esperado um método que leia o status de cada tipo de Task e consiga classificá-lo em True/False"
   ]
  },
  {
   "cell_type": "markdown",
   "metadata": {},
   "source": [
    "### Quais tipos de eventos são necessários para nossa análise?"
   ]
  },
  {
   "cell_type": "code",
   "execution_count": null,
   "metadata": {
    "scrolled": true
   },
   "outputs": [],
   "source": [
    "import os\n",
    "import utils\n",
    "import pandas as pd\n",
    "\n",
    "query = '''\n",
    "            select \n",
    "                distinct(events.type) \n",
    "            from \n",
    "                events\n",
    "        '''\n",
    "\n",
    "df = pd.read_sql(query, os.environ['REEVAPI_URL'])\n",
    "\n",
    "df"
   ]
  },
  {
   "cell_type": "markdown",
   "metadata": {},
   "source": [
    "O evento `EmailEvent` é o mais descrito para o trabalho a ser feito.\n",
    "\n",
    "`CallEvent` é gerado quando a ligação é feita internamente via voip, no entanto pode haver ligações feitas através de telefones particulares que podem ter um `ManualTaskEvent` associado.\n",
    "\n",
    "Um `ManualTaskEvent` é gerado para cada etapa de uma tarefa manual realizada. Em especial é possível tirar informações para Linkedin, Social e Ligações (feitas por fora do Reev)."
   ]
  },
  {
   "cell_type": "markdown",
   "metadata": {},
   "source": [
    "### Recupera exemplo (id) de Tasks de envio de email com Reply"
   ]
  },
  {
   "cell_type": "code",
   "execution_count": null,
   "metadata": {
    "scrolled": true
   },
   "outputs": [],
   "source": [
    "import os\n",
    "import utils\n",
    "import pandas as pd\n",
    "\n",
    "query = '''\n",
    "            select \n",
    "                *\n",
    "            from \n",
    "                tasks\n",
    "            where \n",
    "                type = 'ManualTask'\n",
    "            and \n",
    "                service = 'ManualTasksServices::Email'\n",
    "            limit \n",
    "                20\n",
    "        '''\n",
    "\n",
    "df = pd.read_sql(query, os.environ['REEVAPI_URL'])\n",
    "\n",
    "df"
   ]
  },
  {
   "cell_type": "markdown",
   "metadata": {},
   "source": [
    "### Utiliza a task de exemplo para entender o fluxo de acontecimentos"
   ]
  },
  {
   "cell_type": "code",
   "execution_count": null,
   "metadata": {
    "scrolled": true
   },
   "outputs": [],
   "source": [
    "import os\n",
    "import utils\n",
    "import pandas as pd\n",
    "\n",
    "query = '''\n",
    "            select \n",
    "                *\n",
    "            from \n",
    "                events\n",
    "            where \n",
    "                task_id is not null\n",
    "            limit 100\n",
    "        '''\n",
    "\n",
    "df = pd.read_sql(query, os.environ['REEVAPI_URL'])\n",
    "\n",
    "df"
   ]
  },
  {
   "cell_type": "markdown",
   "metadata": {},
   "source": [
    "### Checando Flow_Recipients"
   ]
  },
  {
   "cell_type": "code",
   "execution_count": null,
   "metadata": {},
   "outputs": [],
   "source": [
    "import os\n",
    "import utils\n",
    "import pandas as pd\n",
    "\n",
    "query = '''\n",
    "            select \n",
    "                count(fr.contact_final_stage), \n",
    "                fr.contact_final_stage\n",
    "            from \n",
    "                flow_recipients fr\n",
    "            join\n",
    "                tasks t\n",
    "            on fr.contact_id = t.referenceable_id\n",
    "            where\n",
    "                t.referenceable_type = 'Contact'\n",
    "            and\n",
    "                fr.contact_final_stage is not null\n",
    "            group by\n",
    "                fr.contact_final_stage\n",
    "        '''\n",
    "\n",
    "df = pd.read_sql(query, os.environ['REEVAPI_URL'])\n",
    "\n",
    "df"
   ]
  },
  {
   "cell_type": "code",
   "execution_count": null,
   "metadata": {
    "scrolled": true
   },
   "outputs": [],
   "source": [
    "import os\n",
    "import utils\n",
    "import pandas as pd\n",
    "\n",
    "query = '''\n",
    "            select \n",
    "                t.created_at as t_created_at,\n",
    "                t.due_on as t_due_on,\n",
    "                t.done_at as t_done_at,\n",
    "                t.service as t_service,\n",
    "                t.type as t_type,\n",
    "                fr.flow_id as fr_flow_id,\n",
    "                fr.last_flow_action_taken as fr_last_flow_action_taken,\n",
    "                case when fr.contact_final_stage = 'lost' then 0 else 1 end as target\n",
    "            from \n",
    "                flow_recipients fr\n",
    "            join\n",
    "                tasks t\n",
    "            on fr.contact_id = t.referenceable_id\n",
    "            where\n",
    "                t.referenceable_type = 'Contact'\n",
    "            and\n",
    "                t.done_at is not null\n",
    "            and\n",
    "                fr.contact_final_stage is not null\n",
    "            limit\n",
    "                20\n",
    "        '''\n",
    "\n",
    "df = pd.read_sql(query, os.environ['REEVAPI_URL'])\n",
    "\n",
    "df"
   ]
  },
  {
   "cell_type": "code",
   "execution_count": null,
   "metadata": {},
   "outputs": [],
   "source": [
    "#datas antigas, mesma query"
   ]
  },
  {
   "cell_type": "markdown",
   "metadata": {},
   "source": [
    "### Montando um dataframe de flow_recipients com balanceamento de classe"
   ]
  },
  {
   "cell_type": "code",
   "execution_count": null,
   "metadata": {},
   "outputs": [],
   "source": [
    "import os\n",
    "import utils\n",
    "import pandas as pd\n",
    "\n",
    "stages = ['client', 'lead', 'lost', 'mql', 'opportunity', 'prospect', 'smart_lead', 'sql']\n",
    "dfs = []\n",
    "\n",
    "for s in stages:\n",
    "    query = '''\n",
    "            select \n",
    "                t.created_at as t_created_at,\n",
    "                t.due_on as t_due_on,\n",
    "                t.done_at as t_done_at,\n",
    "                t.service as t_service,\n",
    "                t.type as t_type,\n",
    "                fr.flow_id as fr_flow_id,\n",
    "                fr.last_flow_action_taken as fr_last_flow_action_taken,\n",
    "                case when fr.contact_final_stage = 'lost' then 0 else 1 end as target\n",
    "            from \n",
    "                flow_recipients fr\n",
    "            join\n",
    "                tasks t\n",
    "            on fr.contact_id = t.referenceable_id\n",
    "            where\n",
    "                t.referenceable_type = 'Contact'\n",
    "            and\n",
    "                t.done_at is not null\n",
    "            and\n",
    "                fr.contact_final_stage = '{}'\n",
    "            limit\n",
    "                1000\n",
    "        '''.format(s)\n",
    "\n",
    "    df = pd.read_sql(query, os.environ['REEVAPI_URL'])\n",
    "\n",
    "    dfs.append(df)"
   ]
  },
  {
   "cell_type": "code",
   "execution_count": null,
   "metadata": {
    "scrolled": true
   },
   "outputs": [],
   "source": [
    "df"
   ]
  },
  {
   "cell_type": "code",
   "execution_count": null,
   "metadata": {},
   "outputs": [],
   "source": [
    "df = pd.concat(dfs)\n",
    "\n",
    "df.shape\n",
    "    "
   ]
  },
  {
   "cell_type": "markdown",
   "metadata": {
    "collapsed": true
   },
   "source": [
    "# Contatos que já tiveram uma interação prévia tem mais chances de sucesso?\n",
    "\n",
    "**Table:** `contacts`  \n",
    "\n",
    "Essa tabela guarda os dados de leads que estão sendo prospectados. É importante notar que um mesmo lead pode ser prospectado mais de uma vez por uma mesma empresa e até mesmo por diferentes empresas.\n",
    "\n",
    "** Pontos a considerar**\n",
    "- considerar tarefas automáticas para análise total\n",
    "- porcentagem de contatos que são prospectados por mais de uma empresa\n",
    "- distribuição do número de etapas realizadas com contatos\n"
   ]
  },
  {
   "cell_type": "code",
   "execution_count": null,
   "metadata": {},
   "outputs": [],
   "source": [
    "import os\n",
    "import utils\n",
    "import pandas as pd\n",
    "\n",
    "query = '''select email from contacts'''\n",
    "df = pd.read_sql(query, os.environ['REEVAPI_URL'])\n",
    "\n",
    "utils.save_pkl('df_contacts.emails', df)"
   ]
  },
  {
   "cell_type": "code",
   "execution_count": null,
   "metadata": {},
   "outputs": [],
   "source": [
    "df = utils.open_pkl('df_contacts.emails')\n",
    "df"
   ]
  },
  {
   "cell_type": "code",
   "execution_count": null,
   "metadata": {},
   "outputs": [],
   "source": [
    "print('Número total de leads:',df.email.count())\n",
    "print('Número de leads únicos:',len(df.email.unique()))"
   ]
  },
  {
   "cell_type": "code",
   "execution_count": null,
   "metadata": {},
   "outputs": [],
   "source": [
    "emails = dict()\n",
    "\n",
    "for i in range(0, df.shape[0]):\n",
    "    if df.email[i] not in emails: emails[df.email[i]] = 0\n",
    "    emails[df.email[i]] += 1"
   ]
  },
  {
   "cell_type": "code",
   "execution_count": null,
   "metadata": {},
   "outputs": [],
   "source": [
    "emails2 = dict()\n",
    "\n",
    "for email in emails:\n",
    "    if emails[email] not in emails2: emails2[emails[email]] = 0\n",
    "    emails2[emails[email]] += 1"
   ]
  },
  {
   "cell_type": "code",
   "execution_count": null,
   "metadata": {},
   "outputs": [],
   "source": [
    "utils.cdf([emails2], x_label='Frequência', y_label='% E-mails')"
   ]
  },
  {
   "cell_type": "code",
   "execution_count": null,
   "metadata": {
    "scrolled": true
   },
   "outputs": [],
   "source": [
    "import operator\n",
    "\n",
    "sorted_emails = sorted(emails.items(), key=operator.itemgetter(1), reverse=True)\n",
    "    \n",
    "sorted_emails"
   ]
  },
  {
   "cell_type": "code",
   "execution_count": null,
   "metadata": {},
   "outputs": [],
   "source": [
    "utils.cdf([emails2], x_label='Frequência', y_label='% E-mails', xleft=1, xright=10)"
   ]
  },
  {
   "cell_type": "markdown",
   "metadata": {
    "collapsed": true
   },
   "source": [
    "# OzzyTasks possuem mais chance de sucesso?\n",
    "Existem dois tipos de ozzy tasks:   \n",
    "  1. ozzy tasks de contatos que estejam em um fluxo\n",
    "  2. ozzy tasks de contatos que não estejam em um fluxo (ex: contatos já perdidos)   \n",
    " \n",
    "### Recuperando todas as ozzy tasks"
   ]
  },
  {
   "cell_type": "code",
   "execution_count": null,
   "metadata": {
    "ExecuteTime": {
     "end_time": "2020-02-20T18:22:45.741819Z",
     "start_time": "2020-02-20T18:20:24.405861Z"
    }
   },
   "outputs": [],
   "source": [
    "import os\n",
    "import pandas as pd\n",
    "\n",
    "query = '''select \n",
    "            e.eventable_id as contact_id,\n",
    "            e.task_id,\n",
    "            e.eventable_type,\n",
    "            t.done_at\n",
    "           from events e join tasks t on e.task_id = t.id \n",
    "           where (t.metadata->'ozzy')::boolean is True\n",
    "            and t.type = 'ManualTask'\n",
    "           '''\n",
    "df = pd.read_sql(query, os.environ['REEVAPI_URL'])\n",
    "df['done_at'] = pd.to_datetime(df['done_at'], errors='coerce')"
   ]
  },
  {
   "cell_type": "markdown",
   "metadata": {},
   "source": [
    "Criando um conjunto apenas com os ids de contatos que tiveram uma ozzy task associada"
   ]
  },
  {
   "cell_type": "code",
   "execution_count": null,
   "metadata": {
    "ExecuteTime": {
     "end_time": "2020-02-20T18:22:47.068856Z",
     "start_time": "2020-02-20T18:22:45.744823Z"
    }
   },
   "outputs": [],
   "source": [
    "contacts = set()\n",
    "\n",
    "for i in range(0, df.shape[0]):\n",
    "    contacts.add(int(df.contact_id[i]))"
   ]
  },
  {
   "cell_type": "markdown",
   "metadata": {},
   "source": [
    "Criando uma lista de contatos e datas de execução da ozzy task associada"
   ]
  },
  {
   "cell_type": "code",
   "execution_count": null,
   "metadata": {
    "ExecuteTime": {
     "end_time": "2020-02-20T18:22:50.121836Z",
     "start_time": "2020-02-20T18:22:47.071208Z"
    }
   },
   "outputs": [],
   "source": [
    "contacts_dates_tasks = []\n",
    "\n",
    "for i in range(0, df.shape[0]):\n",
    "    contacts_dates_tasks.append((int(df.contact_id[i]), df.done_at[i], df.task_id))"
   ]
  },
  {
   "cell_type": "markdown",
   "metadata": {},
   "source": [
    "### Recuperando as ozzy tasks do tipo 1 (fluxo associado)   \n",
    "Recupera todos os flow_recipients dos contatos para posteriormente filtrar os que se enquandram na data de execução da ozzy task:   \n",
    "`fr.created_at < t.done_at < fr.status_updated_at`"
   ]
  },
  {
   "cell_type": "code",
   "execution_count": null,
   "metadata": {
    "ExecuteTime": {
     "end_time": "2020-02-20T18:22:59.790128Z",
     "start_time": "2020-02-20T18:22:50.125622Z"
    }
   },
   "outputs": [],
   "source": [
    "import os\n",
    "import pandas as pd\n",
    "\n",
    "query = '''select \n",
    "            fr.contact_id,\n",
    "            fr.status,\n",
    "            fr.created_at,\n",
    "            fr.status_updated_at,\n",
    "            fr.contact_final_stage,\n",
    "            count(fa.flow_id) as fa_steps,\n",
    "            (fr.last_flow_action_taken + 1) as fr_last_flow_action_taken\n",
    "           from flow_recipients fr\n",
    "           join flow_actions fa on fr.flow_id = fa.flow_id\n",
    "           where\n",
    "            fr.contact_id in (**{}**)\n",
    "           group by\n",
    "            fr.contact_id,\n",
    "            fr.status,  \n",
    "            fr.created_at,\n",
    "            fr.status_updated_at,\n",
    "            fr.contact_final_stage,\n",
    "            fr.last_flow_action_taken\n",
    "           '''.format(str(contacts))\n",
    "\n",
    "query = query.replace('**{', '').replace('}**', '')\n",
    "df2 = pd.read_sql(query, os.environ['REEVAPI_URL'])\n",
    "df2['created_at'] = pd.to_datetime(df2['created_at'], errors='coerce')\n",
    "df2['status_updated_at'] = pd.to_datetime(df2['status_updated_at'], errors='coerce')"
   ]
  },
  {
   "cell_type": "code",
   "execution_count": null,
   "metadata": {
    "scrolled": true
   },
   "outputs": [],
   "source": [
    "df2"
   ]
  },
  {
   "cell_type": "code",
   "execution_count": null,
   "metadata": {
    "ExecuteTime": {
     "end_time": "2020-02-20T18:22:59.801573Z",
     "start_time": "2020-02-20T18:22:59.792552Z"
    }
   },
   "outputs": [],
   "source": [
    "# removendo NaNs e tratando valores float\n",
    "df2.fr_last_flow_action_taken = df2.fr_last_flow_action_taken.fillna(0)\n",
    "df2.fr_last_flow_action_taken = df2.fr_last_flow_action_taken.astype(int)"
   ]
  },
  {
   "cell_type": "code",
   "execution_count": null,
   "metadata": {
    "ExecuteTime": {
     "end_time": "2020-02-20T18:25:06.099766Z",
     "start_time": "2020-02-20T18:22:59.804460Z"
    }
   },
   "outputs": [],
   "source": [
    "# filtrando pela data/hora de execução da ozzy task\n",
    "import datetime\n",
    "\n",
    "dfs = []\n",
    "\n",
    "for i in contacts_dates_tasks:\n",
    "    temp = df2[(df2['contact_id'] == i[0]) & (df2['created_at'] < i[1]) & (df2['status_updated_at'] > i[1])]\n",
    "    dfs.append(temp)\n",
    "    \n",
    "df3 = pd.concat(dfs)\n",
    "df3 = df2.reset_index(drop=True)"
   ]
  },
  {
   "cell_type": "code",
   "execution_count": null,
   "metadata": {
    "scrolled": true
   },
   "outputs": [],
   "source": [
    "df3"
   ]
  },
  {
   "cell_type": "markdown",
   "metadata": {},
   "source": [
    "Adicionando o target   \n",
    "\n",
    "**Importante notar que há muitos flow_recipients que não se enquadram em nenhum dos targets**"
   ]
  },
  {
   "cell_type": "code",
   "execution_count": null,
   "metadata": {
    "ExecuteTime": {
     "end_time": "2020-02-20T18:25:13.141655Z",
     "start_time": "2020-02-20T18:25:06.103873Z"
    }
   },
   "outputs": [],
   "source": [
    "def get_target(status, contact_final_stage, fa_steps, fr_last_flow_action_taken):\n",
    "    # connected + client\n",
    "    if status == 'connected' and contact_final_stage == 'client':\n",
    "        return 'connected_client'\n",
    "\n",
    "    # connected\n",
    "    if status == 'connected' and contact_final_stage != 'client':\n",
    "        return  'connected'\n",
    "        \n",
    "    # converting\n",
    "    if status == 'converting':\n",
    "        return 'converting'\n",
    "        \n",
    "    # lost + finished e parou no meio do fluxo\n",
    "    if contact_final_stage == 'lost' and fa_steps != fr_last_flow_action_taken:\n",
    "        return 'lost'\n",
    "\n",
    "    # lost + finished e passou por todo o fluxo\n",
    "    if contact_final_stage == 'lost' and fa_steps == fr_last_flow_action_taken:\n",
    "        return 'lost_whole_flow'\n",
    "\n",
    "    \n",
    "df3['target']= df3.apply(lambda x: get_target(x['status'],x['contact_final_stage'],x['fa_steps'],x['fr_last_flow_action_taken']),axis=1)"
   ]
  },
  {
   "cell_type": "code",
   "execution_count": null,
   "metadata": {
    "ExecuteTime": {
     "end_time": "2020-02-20T18:25:13.162787Z",
     "start_time": "2020-02-20T18:25:13.144244Z"
    }
   },
   "outputs": [],
   "source": [
    "# tasks que não foram ser associadas a um target\n",
    "df_result = df3[df3.target.notnull()]"
   ]
  },
  {
   "cell_type": "code",
   "execution_count": null,
   "metadata": {
    "scrolled": true
   },
   "outputs": [],
   "source": [
    "df_result"
   ]
  },
  {
   "cell_type": "markdown",
   "metadata": {},
   "source": [
    "### Ozzies Tasks type 2"
   ]
  },
  {
   "cell_type": "markdown",
   "metadata": {},
   "source": [
    "# Calcula a porcentagem de conversão de ozzy tasks vs task manuais"
   ]
  },
  {
   "cell_type": "code",
   "execution_count": null,
   "metadata": {
    "ExecuteTime": {
     "end_time": "2020-02-20T18:25:43.864691Z",
     "start_time": "2020-02-20T18:25:13.165289Z"
    }
   },
   "outputs": [],
   "source": [
    "import os\n",
    "import utils\n",
    "import pandas as pd\n",
    "\n",
    "dfs = []\n",
    "\n",
    "query = '''\n",
    "        select\n",
    "            count(*)\n",
    "        from \n",
    "            flow_recipients fr join tasks t on fr.contact_id = t.referenceable_id \n",
    "            join contacts c on fr.contact_id = c.id \n",
    "        (where)\n",
    "    '''\n",
    "\n",
    "# connected + client\n",
    "target = '''\n",
    "            'connected_client' as target\n",
    "        '''\n",
    "\n",
    "where = '''\n",
    "        where\n",
    "            fr.last_flow_action_taken is not null\n",
    "            and (fr.status = 'finished' or fr.status = 'connected')\n",
    "            and fr.contact_final_stage = 'client' \n",
    "            and t.referenceable_type = 'Contact' \n",
    "            and t.done_at is not null\n",
    "            and t.type = 'ManualTask'\n",
    "        '''\n",
    "\n",
    "query_to_execute = query.replace('(target)', target).replace('(where)', where)\n",
    "df = pd.read_sql(query_to_execute, os.environ['REEVAPI_URL'])\n",
    "\n",
    "connected_client = df['count'][0]\n",
    "\n",
    "# connected\n",
    "target = '''\n",
    "            'connected' as target\n",
    "        '''\n",
    "\n",
    "where = '''\n",
    "        where\n",
    "            fr.last_flow_action_taken is not null\n",
    "            and fr.status = 'connected' \n",
    "            and fr.contact_final_stage <> 'client' \n",
    "            and t.referenceable_type = 'Contact' \n",
    "            and t.done_at is not null\n",
    "            and t.type = 'ManualTask'\n",
    "       '''\n",
    "\n",
    "query_to_execute = query.replace('(target)', target).replace('(where)', where)\n",
    "df = pd.read_sql(query_to_execute, os.environ['REEVAPI_URL'])\n",
    "\n",
    "connected = df['count'][0]\n",
    "\n",
    "# converting\n",
    "target = '''\n",
    "            'converting' as target\n",
    "        '''\n",
    "\n",
    "where = '''\n",
    "        where\n",
    "            fr.last_flow_action_taken is not null\n",
    "            and fr.status = 'converting'  \n",
    "            and t.referenceable_type = 'Contact' \n",
    "            and t.done_at is not null\n",
    "            and t.type = 'ManualTask'\n",
    "    '''\n",
    "\n",
    "query_to_execute = query.replace('(target)', target).replace('(where)', where)\n",
    "df = pd.read_sql(query_to_execute, os.environ['REEVAPI_URL'])\n",
    "\n",
    "converting = df['count'][0]\n",
    "\n",
    "# lost + finished e parou no meio do fluxo\n",
    "target = '''\n",
    "            'lost' as target\n",
    "        '''\n",
    "\n",
    "where = '''\n",
    "        where\n",
    "            fr.last_flow_action_taken is not null\n",
    "            and fr.status = 'finished' \n",
    "            and fr.contact_final_stage = 'lost' \n",
    "            and t.referenceable_type = 'Contact' \n",
    "            and t.done_at is not null\n",
    "            and t.type = 'ManualTask'\n",
    "        '''\n",
    "\n",
    "query_to_execute = query.replace('(target)', target).replace('(where)', where)\n",
    "df = pd.read_sql(query_to_execute, os.environ['REEVAPI_URL'])\n",
    "\n",
    "lost = df['count'][0]\n",
    "\n",
    "total = pd.read_sql('select count(*) from tasks', os.environ['REEVAPI_URL'])['count'][0]"
   ]
  },
  {
   "cell_type": "code",
   "execution_count": null,
   "metadata": {},
   "outputs": [],
   "source": [
    "total"
   ]
  },
  {
   "cell_type": "code",
   "execution_count": null,
   "metadata": {
    "ExecuteTime": {
     "end_time": "2020-02-20T18:25:43.877469Z",
     "start_time": "2020-02-20T18:25:43.868364Z"
    }
   },
   "outputs": [],
   "source": [
    "print(connected_client/total)\n",
    "print(connected/total)\n",
    "print(converting/total)\n",
    "print(lost/total)"
   ]
  },
  {
   "cell_type": "code",
   "execution_count": null,
   "metadata": {
    "ExecuteTime": {
     "end_time": "2020-02-20T18:25:44.494454Z",
     "start_time": "2020-02-20T18:25:43.881508Z"
    }
   },
   "outputs": [],
   "source": [
    "ozzy_total = df3.shape[0]\n",
    "\n",
    "ozzy_connected_client = df3[df3.target == 'connected_client'].shape[0]\n",
    "ozzy_connected = df3[df3.target == 'connected'].shape[0]\n",
    "ozzy_converting = df3[df3.target == 'converting'].shape[0]\n",
    "ozzy_lost = df3[df3.target == 'lost'].shape[0] + df3[df3.target == 'lost_whole_flow'].shape[0]"
   ]
  },
  {
   "cell_type": "code",
   "execution_count": null,
   "metadata": {
    "ExecuteTime": {
     "end_time": "2020-02-20T18:25:44.495156Z",
     "start_time": "2020-02-20T21:20:32.631Z"
    }
   },
   "outputs": [],
   "source": [
    "print(ozzy_connected_client/ozzy_total)\n",
    "print(ozzy_connected/ozzy_total)\n",
    "print(ozzy_converting/ozzy_total)\n",
    "print(ozzy_lost/ozzy_total)"
   ]
  },
  {
   "cell_type": "code",
   "execution_count": null,
   "metadata": {
    "ExecuteTime": {
     "end_time": "2020-02-20T18:25:44.495566Z",
     "start_time": "2020-02-20T21:20:33.262Z"
    }
   },
   "outputs": [],
   "source": [
    "print((ozzy_connected/ozzy_total)/(connected/total))"
   ]
  },
  {
   "cell_type": "markdown",
   "metadata": {
    "collapsed": true
   },
   "source": [
    "### Contatos que tenham interagido com alguma ozzy task, tem mais chance de se conectarem?\n",
    "recupera uma amostragem de tasks"
   ]
  },
  {
   "cell_type": "code",
   "execution_count": null,
   "metadata": {},
   "outputs": [],
   "source": [
    "import os\n",
    "import utils\n",
    "import pandas as pd\n",
    "\n",
    "def get_dataframe():\n",
    "\n",
    "    limit = 50000\n",
    "\n",
    "    dfs = []\n",
    "    \n",
    "    query = '''\n",
    "            select\n",
    "                c.email,\n",
    "                c.id as contact_id,\n",
    "                t.company_id as t_company_id,\n",
    "                t.metadata,\n",
    "                t.type as t_type,\n",
    "                t.done_at as t_done_at,\n",
    "                t.service as t_service,\n",
    "                fr.status as fr_status,\n",
    "                fr.contact_id as fr_contact_id,\n",
    "                fr.flow_id as fr_flow_id,\n",
    "                count(fa.flow_id) as fa_steps,\n",
    "                (fr.last_flow_action_taken + 1) as fr_last_flow_action_taken,\n",
    "                (target)\n",
    "            from \n",
    "                flow_recipients fr join tasks t on fr.contact_id = t.referenceable_id \n",
    "                join flow_actions fa on fr.flow_id = fa.flow_id\n",
    "                join contacts c on fr.contact_id = c.id \n",
    "            (where)\n",
    "            group by\n",
    "                t.metadata,\n",
    "                c.id,\n",
    "                t.company_id,\n",
    "                fr.contact_id,\n",
    "                c.email,\n",
    "                fa.flow_id, \n",
    "                t.type,\n",
    "                t.done_at, \n",
    "                t.service, \n",
    "                t.type, \n",
    "                fr.status, \n",
    "                fr.flow_id, \n",
    "                fr.last_flow_action_taken\n",
    "            (having)\n",
    "            limit\n",
    "                {}\n",
    "        '''.format(limit)\n",
    "    \n",
    "    # connected + client\n",
    "    target = '''\n",
    "                'connected_client' as target\n",
    "            '''\n",
    "    \n",
    "    where = '''\n",
    "            where\n",
    "                fr.last_flow_action_taken is not null\n",
    "                and (fr.status = 'finished' or fr.status = 'connected')\n",
    "                and fr.contact_final_stage = 'client' \n",
    "                and t.referenceable_type = 'Contact' \n",
    "                and t.done_at is not null\n",
    "                and t.type = 'ManualTask'\n",
    "            '''\n",
    "    \n",
    "    query_to_execute = query.replace('(target)', target).replace('(where)', where).replace('(having)', '')\n",
    "    df = pd.read_sql(query_to_execute, os.environ['REEVAPI_URL'])\n",
    "    dfs.append(df)\n",
    "    \n",
    "    # connected\n",
    "    target = '''\n",
    "                'connected' as target\n",
    "            '''\n",
    "    \n",
    "    where = '''\n",
    "            where\n",
    "                fr.last_flow_action_taken is not null\n",
    "                and fr.status = 'connected' \n",
    "                and fr.contact_final_stage <> 'client' \n",
    "                and t.referenceable_type = 'Contact' \n",
    "                and t.done_at is not null\n",
    "                and t.type = 'ManualTask'\n",
    "           '''\n",
    "    \n",
    "    query_to_execute = query.replace('(target)', target).replace('(where)', where).replace('(having)', '')\n",
    "    df = pd.read_sql(query_to_execute, os.environ['REEVAPI_URL'])\n",
    "    dfs.append(df)\n",
    "\n",
    "    # converting\n",
    "    target = '''\n",
    "                'converting' as target\n",
    "            '''\n",
    "    \n",
    "    where = '''\n",
    "            where\n",
    "                fr.last_flow_action_taken is not null\n",
    "                and fr.status = 'converting'  \n",
    "                and t.referenceable_type = 'Contact' \n",
    "                and t.done_at is not null\n",
    "                and t.type = 'ManualTask'\n",
    "        '''\n",
    "    \n",
    "    query_to_execute = query.replace('(target)', target).replace('(where)', where).replace('(having)', '')\n",
    "    df = pd.read_sql(query_to_execute, os.environ['REEVAPI_URL'])\n",
    "    dfs.append(df)\n",
    "\n",
    "    # lost + finished e parou no meio do fluxo\n",
    "    target = '''\n",
    "                'lost' as target\n",
    "            '''\n",
    "    \n",
    "    where = '''\n",
    "            where\n",
    "                fr.last_flow_action_taken is not null\n",
    "                and fr.status = 'finished' \n",
    "                and fr.contact_final_stage = 'lost' \n",
    "                and t.referenceable_type = 'Contact' \n",
    "                and t.done_at is not null\n",
    "                and t.type = 'ManualTask'\n",
    "            '''\n",
    "\n",
    "    having = '''\n",
    "                having count(fa.flow_id) <> (fr.last_flow_action_taken + 1)\n",
    "            '''\n",
    "    \n",
    "    query_to_execute = query.replace('(target)', target).replace('(where)', where).replace('(having)', having)\n",
    "    df = pd.read_sql(query_to_execute, os.environ['REEVAPI_URL'])\n",
    "    dfs.append(df)\n",
    "\n",
    "    # lost + finished e passou por todo o fluxo\n",
    "    target = '''\n",
    "                'lost_whole_flow' as target\n",
    "            '''\n",
    "    \n",
    "    where = '''\n",
    "            where\n",
    "                fr.last_flow_action_taken is not null\n",
    "                and fr.status = 'finished' \n",
    "                and fr.contact_final_stage = 'lost' \n",
    "                and t.referenceable_type = 'Contact' \n",
    "                and t.done_at is not null\n",
    "                and t.type = 'ManualTask'\n",
    "            '''\n",
    "\n",
    "    having = '''\n",
    "                having count(fa.flow_id) = (fr.last_flow_action_taken + 1)\n",
    "            '''\n",
    "            \n",
    "    query_to_execute = query.replace('(target)', target).replace('(where)', where).replace('(having)', having)    \n",
    "    df = pd.read_sql(query_to_execute, os.environ['REEVAPI_URL'])\n",
    "    dfs.append(df)\n",
    "\n",
    "    df = pd.concat(dfs)\n",
    "\n",
    "    return df"
   ]
  },
  {
   "cell_type": "code",
   "execution_count": null,
   "metadata": {
    "scrolled": true
   },
   "outputs": [],
   "source": [
    "df = get_dataframe()\n",
    "df"
   ]
  },
  {
   "cell_type": "code",
   "execution_count": null,
   "metadata": {},
   "outputs": [],
   "source": []
  },
  {
   "cell_type": "markdown",
   "metadata": {
    "collapsed": true
   },
   "source": [
    "recupera a lista de todos os contatos/empresas que tiveram intereção com uma ozzy task"
   ]
  },
  {
   "cell_type": "code",
   "execution_count": null,
   "metadata": {},
   "outputs": [],
   "source": [
    "query = '''select \n",
    "            e.eventable_id as contact_id,\n",
    "            t.company_id\n",
    "           from events e join tasks t on e.task_id = t.id \n",
    "           where (t.metadata->'ozzy')::boolean is True\n",
    "            and t.type = 'ManualTask'\n",
    "           '''\n",
    "df2 = pd.read_sql(query, os.environ['REEVAPI_URL'])"
   ]
  },
  {
   "cell_type": "code",
   "execution_count": null,
   "metadata": {},
   "outputs": [],
   "source": [
    "df2"
   ]
  },
  {
   "cell_type": "code",
   "execution_count": null,
   "metadata": {},
   "outputs": [],
   "source": [
    "contact_company = set()\n",
    "for i in range(0, df2.shape[0]):\n",
    "    c1 = df2.contact_id[i]\n",
    "    c2 = df2.company_id[i]\n",
    "    c3 = str(c1) + '_' + str(c2)\n",
    "    contact_company.add(c3)"
   ]
  },
  {
   "cell_type": "code",
   "execution_count": null,
   "metadata": {},
   "outputs": [],
   "source": [
    "df['ozzy'] = 0\n",
    "df = df.reset_index(drop=True)"
   ]
  },
  {
   "cell_type": "code",
   "execution_count": null,
   "metadata": {},
   "outputs": [],
   "source": [
    "def have_ozzy(contact, company):\n",
    "    c = str(contact) + '_' + str(company)\n",
    "    if c in contact_company:\n",
    "        return 1\n",
    "    return 0\n",
    "\n",
    "df['ozzy'] = df.apply(lambda x: have_ozzy(x['contact_id'], x['t_company_id']), axis = 1)  "
   ]
  },
  {
   "cell_type": "code",
   "execution_count": null,
   "metadata": {},
   "outputs": [],
   "source": [
    "df['ozzy'].unique()"
   ]
  },
  {
   "cell_type": "code",
   "execution_count": null,
   "metadata": {},
   "outputs": [],
   "source": [
    "df_ozzy = df[df['ozzy'] == 1]\n",
    "df_not_ozzy = df[df['ozzy'] == 0]"
   ]
  },
  {
   "cell_type": "code",
   "execution_count": null,
   "metadata": {},
   "outputs": [],
   "source": [
    "ozzy_total = df_ozzy.shape[0]\n",
    "ozzy_connected = df_ozzy[df_ozzy['target'] == 'connected_client'].shape[0] + df_ozzy[df_ozzy['target'] == 'connected'].shape[0]\n",
    "\n",
    "o = ozzy_connected/ozzy_total\n",
    "o"
   ]
  },
  {
   "cell_type": "code",
   "execution_count": null,
   "metadata": {},
   "outputs": [],
   "source": [
    "not_ozzy_total = df_not_ozzy.shape[0]\n",
    "not_ozzy_connected = df_not_ozzy[df_not_ozzy['target'] == 'connected_client'].shape[0] + df_not_ozzy[df_not_ozzy['target'] == 'connected'].shape[0]\n",
    "\n",
    "n = not_ozzy_connected/not_ozzy_total\n",
    "n"
   ]
  },
  {
   "cell_type": "code",
   "execution_count": null,
   "metadata": {},
   "outputs": [],
   "source": [
    "o/n"
   ]
  },
  {
   "cell_type": "code",
   "execution_count": null,
   "metadata": {},
   "outputs": [],
   "source": []
  }
 ],
 "metadata": {
  "kernelspec": {
   "display_name": "Python 3",
   "language": "python",
   "name": "python3"
  },
  "language_info": {
   "codemirror_mode": {
    "name": "ipython",
    "version": 3
   },
   "file_extension": ".py",
   "mimetype": "text/x-python",
   "name": "python",
   "nbconvert_exporter": "python",
   "pygments_lexer": "ipython3",
   "version": "3.8.8"
  }
 },
 "nbformat": 4,
 "nbformat_minor": 2
}
